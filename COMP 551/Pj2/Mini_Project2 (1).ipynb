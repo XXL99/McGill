{
  "cells": [
    {
      "cell_type": "code",
      "execution_count": null,
      "metadata": {
        "id": "beeUvzUnoD0L"
      },
      "outputs": [],
      "source": [
        "import numpy as np\n",
        "import pandas as pd\n",
        "from sklearn.feature_extraction.text import CountVectorizer\n",
        "import numpy as np\n",
        "from scipy import sparse\n",
        "%matplotlib inline\n",
        "import matplotlib.pyplot as plt"
      ]
    },
    {
      "cell_type": "markdown",
      "metadata": {
        "id": "Ggyr5DqAWH7L"
      },
      "source": [
        "#Dataset\n",
        "- 20 news group dataset: a collectoin of 20,000 newsgroup document\n",
        "- Sentiment140 dataset:"
      ]
    },
    {
      "cell_type": "markdown",
      "metadata": {
        "id": "eVliP6aSmMA9"
      },
      "source": [
        "##20 News Group \n",
        "- implementation\n"
      ]
    },
    {
      "cell_type": "code",
      "execution_count": null,
      "metadata": {
        "id": "JDfLWR-DWa3T"
      },
      "outputs": [],
      "source": [
        "from sklearn.datasets import fetch_20newsgroups #import 20 newgroups\n",
        "twenty_train = fetch_20newsgroups(subset='train',shuffle=True, random_state=42,remove=(['headers','footers','quotes'])); #no random shuffle \n",
        "twenty_test = fetch_20newsgroups(subset='test',shuffle=True, random_state=42,remove=(['headers','footers','quotes'])); #no random shuffle"
      ]
    },
    {
      "cell_type": "markdown",
      "metadata": {
        "id": "b8h4qsFon9oX"
      },
      "source": [
        "- Training x and y"
      ]
    },
    {
      "cell_type": "code",
      "execution_count": null,
      "metadata": {
        "id": "fnMRJnKwn9Qi"
      },
      "outputs": [],
      "source": [
        "from sklearn.feature_extraction.text import TfidfTransformer\n",
        "count_vect = CountVectorizer(min_df=0.001)\n",
        "X_train_counts = count_vect.fit_transform(twenty_train.data)\n",
        "tf_transformer = TfidfTransformer(use_idf=False).fit(X_train_counts)\n",
        "X_train_tf = tf_transformer.transform(X_train_counts)\n",
        "tfidf_transformer = TfidfTransformer()\n",
        "x_train = tfidf_transformer.fit_transform(X_train_counts)\n",
        "y_train=twenty_train.target\n",
        "# x_train.shape"
      ]
    },
    {
      "cell_type": "markdown",
      "metadata": {
        "id": "7MXnRLQ1olp3"
      },
      "source": [
        "- Testing x and y"
      ]
    },
    {
      "cell_type": "code",
      "execution_count": null,
      "metadata": {
        "id": "YzVetwJQom4a"
      },
      "outputs": [],
      "source": [
        "X_test_counts = count_vect.transform(twenty_test.data)\n",
        "x_test = tfidf_transformer.transform(X_test_counts)\n",
        "y_test=(twenty_test.target)"
      ]
    },
    {
      "cell_type": "code",
      "execution_count": null,
      "metadata": {
        "colab": {
          "base_uri": "https://localhost:8080/"
        },
        "id": "pbg6k-PYb8am",
        "outputId": "400ca837-05f3-4c3a-bb4f-154fcbf31c39"
      },
      "outputs": [
        {
          "output_type": "execute_result",
          "data": {
            "text/plain": [
              "(11314, 9349)"
            ]
          },
          "metadata": {},
          "execution_count": 6
        }
      ],
      "source": [
        "x_train.shape"
      ]
    },
    {
      "cell_type": "markdown",
      "metadata": {
        "id": "SOHK-bLevHge"
      },
      "source": [
        "##Sentiment 140 dataset\n",
        "- Implementation"
      ]
    },
    {
      "cell_type": "code",
      "execution_count": null,
      "metadata": {
        "colab": {
          "base_uri": "https://localhost:8080/"
        },
        "id": "uLLjm-uNPvUj",
        "outputId": "e7fca0d5-b596-4fa1-8e69-2e6cb4c8bbe5"
      },
      "outputs": [
        {
          "output_type": "stream",
          "name": "stdout",
          "text": [
            "Drive already mounted at /content/drive; to attempt to forcibly remount, call drive.mount(\"/content/drive\", force_remount=True).\n"
          ]
        }
      ],
      "source": [
        "from google.colab import drive\n",
        "drive.mount('/content/drive')"
      ]
    },
    {
      "cell_type": "code",
      "execution_count": null,
      "metadata": {
        "id": "NsciUoedvPrz"
      },
      "outputs": [],
      "source": [
        "#data implementation\n",
        "col_name=['polarity','id','date','query','user','text']\n",
        "traindata='/content/drive/MyDrive/comp551-A2/trainingandtestdata/training.1600000.processed.noemoticon.csv'\n",
        "testdata='/content/drive/MyDrive/comp551-A2/trainingandtestdata/new_testdata.manual.2009.06.14.csv'\n",
        "\n",
        "raw_train = pd.read_csv(traindata, sep=',',header=None, names= col_name, encoding='latin-1')\n",
        "raw_train = raw_train.sample(frac=1).reset_index(drop=True)\n",
        "raw_train = raw_train[:int(len(raw_train)*0.5)] #just use half of it since it's too large\n",
        "raw_train['polarity'] = raw_train['polarity'].replace(4,1) #3 classes: 0,4 convert into 0,1\n",
        "\n",
        "raw_test = pd.read_csv(testdata, sep=',',header=None, names= col_name,encoding='latin-1')\n",
        "raw_test = raw_test.sample(frac=1).reset_index(drop=True)\n",
        "raw_test['polarity']= raw_test['polarity'].replace(4,1) #3 classes: 0,4 convert into 0,1\n",
        "\n",
        "train_fin=raw_train[['text']]\n",
        "test_fin=raw_test[['text']]\n",
        "y2_train=raw_train['polarity'].values ##y_train for sentiment 140\n",
        "y2_test=raw_test['polarity'].values ##y_test for sentiment 140"
      ]
    },
    {
      "cell_type": "markdown",
      "metadata": {
        "id": "hPEMM3v3xxbV"
      },
      "source": [
        "- Cleaning data"
      ]
    },
    {
      "cell_type": "code",
      "execution_count": null,
      "metadata": {
        "id": "l3SmvpB9xz6B"
      },
      "outputs": [],
      "source": [
        "import re\n",
        "from bs4 import BeautifulSoup\n",
        "def clean(x_text):\n",
        "  clean1 = BeautifulSoup(x_text, 'lxml') #decode HTML language\n",
        "  clean2 = re.sub(r'@[A-Za-z0-9]+',' ', clean1.get_text()) #clean @\n",
        "  clean2 = re.sub(r'www.[^ ]+', ' ', clean2) #clean url\n",
        "  clean3 = re.sub('https?://[A-Za-z0-9./]+',' ', clean2) #clean url\n",
        "  try: \n",
        "    clean3.decode(\"utf-8-sig\")\n",
        "    clean4 = clean3.decode(\"utf-8-sig\") #decode utf-8-sig if the string contains one\n",
        "    clean4 = clean4.replace(u\"\\ufffd\", \"?\") #replace the utf-8-sig text with ? \n",
        "  except:\n",
        "    clean4=clean3\n",
        "  clean5 = re.sub(\"[^a-zA-Z]\",' ', clean4) #keep only letter\n",
        "  clean6 = clean5.lower()\n",
        "  return clean6\n",
        "def clean_out(text):\n",
        "  text_list=[]\n",
        "  for i in text:\n",
        "    text_list.append(clean(i))\n",
        "  return text_list"
      ]
    },
    {
      "cell_type": "code",
      "execution_count": null,
      "metadata": {
        "id": "qZvF1gegx3VK"
      },
      "outputs": [],
      "source": [
        "x1_clean=clean_out(train_fin.text) #x_train after cleaning\n",
        "x2_clean=clean_out(test_fin.text) #x_test after cleaning"
      ]
    },
    {
      "cell_type": "markdown",
      "metadata": {
        "id": "DEPu-PqryAjF"
      },
      "source": [
        "- Convert into vector"
      ]
    },
    {
      "cell_type": "code",
      "execution_count": null,
      "metadata": {
        "id": "7JDIww0OyDR3"
      },
      "outputs": [],
      "source": [
        "from sklearn.feature_extraction.text import TfidfTransformer\n",
        "from sklearn.feature_extraction.text import CountVectorizer\n",
        "count_vect = CountVectorizer(min_df=0.001)\n",
        "X_train_counts = count_vect.fit_transform(x1_clean)\n",
        "tf_transformer = TfidfTransformer(use_idf=False).fit(X_train_counts)\n",
        "X_train_tf = tf_transformer.transform(X_train_counts)\n",
        "tfidf_transformer = TfidfTransformer()\n",
        "x2_train = tfidf_transformer.fit_transform(X_train_counts) ##x_train for setiment 140\n",
        "X_test_counts = count_vect.transform(x2_clean)\n",
        "x2_test = tfidf_transformer.transform(X_test_counts) ##x_test for setiment 140"
      ]
    },
    {
      "cell_type": "markdown",
      "metadata": {
        "id": "Gxp9KhtEGYuu"
      },
      "source": [
        "## Get Data \n",
        "- x_train, y_train, x_test, y_test\n",
        "- with precentage of training data"
      ]
    },
    {
      "cell_type": "code",
      "execution_count": null,
      "metadata": {
        "id": "m0VTE4BBGYQc"
      },
      "outputs": [],
      "source": [
        "def getnewsdata(percentage=1):\n",
        "  len1=x_train.shape[0]\n",
        "  x_tr=x_train\n",
        "  x_1=x_tr[:int(len1*percentage)]\n",
        "  len2=y_train.shape[0]\n",
        "  y_tr=y_train\n",
        "  y_1=y_tr[:int(len2*percentage)]\n",
        "  x_2=x_test\n",
        "  y_2=y_test\n",
        "  return x_1, y_1, x_2, y_2;\n",
        "\n",
        "def getsentdata(percentage=1):\n",
        "  len1=x2_train.shape[0]\n",
        "  x2_tr=x2_train\n",
        "  x_1=x2_tr[:int(len1*percentage)]\n",
        "  len2=y2_train.shape[0]\n",
        "  y2_tr=y2_train\n",
        "  y_1=y2_tr[:int(len2*percentage)]\n",
        "  x_2=x2_test\n",
        "  y_2=y2_test\n",
        "  return x_1, y_1, x_2, y_2;\n",
        "\n",
        "def getnewsdata_np(percentage=1):\n",
        "  x_train_array=x_train.toarray()\n",
        "  len1=len( x_train_array)\n",
        "  x_tr_ar=x_train_array\n",
        "  x_train_array=x_tr_ar[:int(len1*percentage)]\n",
        "  len2=len(y_train)\n",
        "  y_tr=y_train\n",
        "  y_train_array=y_tr[:int(len2*percentage)]\n",
        "  x_test_array=x_test.toarray()\n",
        "  y_test_array=y_test\n",
        "  return x_train_array, y_train_array, x_test_array, y_test_array;\n",
        "\n",
        "def getsentdata_np(percentage=1):\n",
        "  x2_train_array=x2_train.toarray()\n",
        "  len1=len( x2_train_array)\n",
        "  x2_tr_ar=x2_train_array\n",
        "  x2_train_array=x2_tr_ar[:int(len1*percentage)]\n",
        "  len2=len(y2_train)\n",
        "  y2_tr=y2_train\n",
        "  y2_train_array=y2_tr[:int(len2*percentage)]\n",
        "  x2_test_array=x2_test.toarray()\n",
        "  y2_test_array=y2_test\n",
        "  return x2_train_array, y2_train_array, x2_test_array, y2_test_array;"
      ]
    },
    {
      "cell_type": "code",
      "source": [
        "# x_1, y_1, x_2, y_2=getsentdata_np()\n",
        "# x_1.shape"
      ],
      "metadata": {
        "colab": {
          "base_uri": "https://localhost:8080/"
        },
        "id": "rY9b86BHJh-z",
        "outputId": "1fad2ad7-b4d7-446c-be52-8275476e9e94"
      },
      "execution_count": null,
      "outputs": [
        {
          "output_type": "execute_result",
          "data": {
            "text/plain": [
              "(800000, 1113)"
            ]
          },
          "metadata": {},
          "execution_count": 25
        }
      ]
    },
    {
      "cell_type": "markdown",
      "metadata": {
        "id": "s9RKMKrE3heu"
      },
      "source": [
        "# Models \n"
      ]
    },
    {
      "cell_type": "markdown",
      "metadata": {
        "id": "mKeSQ8_D3m4Y"
      },
      "source": [
        "## Logistic Regression "
      ]
    },
    {
      "cell_type": "code",
      "execution_count": null,
      "metadata": {
        "id": "un49hvTb3pD5"
      },
      "outputs": [],
      "source": [
        "import pandas as pd \n",
        "import numpy as np \n",
        "import matplotlib.pyplot as plt\n",
        "\n",
        "from sklearn.datasets import load_iris\n",
        "from sklearn.linear_model import LogisticRegression\n",
        "np.random.seed(1024)"
      ]
    },
    {
      "cell_type": "markdown",
      "metadata": {
        "id": "kEtTZoh84D2R"
      },
      "source": [
        "Parameters To Consider:\n",
        "\n",
        "LogisticRegression(penalty='l2', *, dual=False, tol=0.0001, C=1.0, fit_intercept=True, intercept_scaling=1, class_weight=None, random_state=None, solver='lbfgs', max_iter=100, multi_class='auto', verbose=0, warm_start=False, n_jobs=None, l1_ratio=None)"
      ]
    },
    {
      "cell_type": "code",
      "execution_count": null,
      "metadata": {
        "id": "jTMV-QJ13wYz"
      },
      "outputs": [],
      "source": [
        "# Multi Class Model\n",
        "model_multi = LogisticRegression(multi_class='multinomial', solver='sag')\n",
        "\n",
        "# Binary Class Model\n",
        "model_binary = LogisticRegression(multi_class='ovr',solver='sag',penalty='l2')"
      ]
    },
    {
      "cell_type": "markdown",
      "metadata": {
        "id": "XVQFX-OB5Dqk"
      },
      "source": [
        "## Naive Bayes"
      ]
    },
    {
      "cell_type": "markdown",
      "metadata": {
        "id": "f-d0sZYjcD88"
      },
      "source": [
        "### GNB"
      ]
    },
    {
      "cell_type": "code",
      "source": [
        "class GaussianNaiveBayes:\n",
        "    \n",
        "    def __init__(self):\n",
        "        return\n",
        "    \n",
        "    def fit(self, x, y):\n",
        "        N, D = x.shape\n",
        "        C = np.max(y) + 1\n",
        "        mu, sigma = np.zeros((C,D)), np.zeros((C,D))\n",
        "        Nc = np.zeros(C) \n",
        "        for c in range(C):\n",
        "            x_c = x[y == c]                           \n",
        "            Nc[c] = x_c.shape[0]                      \n",
        "            mu[c,:] = np.mean(x_c,0)                 \n",
        "            sigma[c,:] = np.std(x_c, 0)              \n",
        "            \n",
        "        self.mu = mu                                  \n",
        "        self.sigma = sigma                            \n",
        "        self.pi = (Nc+1)/(N+C)                        \n",
        "        return self"
      ],
      "metadata": {
        "id": "pdmjLDYD3a5o"
      },
      "execution_count": 2,
      "outputs": []
    },
    {
      "cell_type": "code",
      "source": [
        "def logsumexp(Z):                                                \n",
        "    Zmax = np.max(Z,axis=0)[None,:]                             \n",
        "    log_sum_exp = Zmax + np.log(np.sum(np.exp(Z - Zmax), axis=0))\n",
        "    return log_sum_exp\n",
        "\n",
        "def predict(self, xt):\n",
        "    Nt, D = xt.shape\n",
        "    log_prior = np.log(self.pi)[:, None]\n",
        "    \n",
        "    log_likelihood = -.5 * np.log(2*np.pi) - np.log(self.sigma[:,None,:]) -.5 * (((xt[None,:,:] - self.mu[:,None,:])/self.sigma[:,None,:])**2)\n",
        "    log_likelihood = np.sum(log_likelihood, axis=2)\n",
        "    log_posterior = log_prior + log_likelihood\n",
        "    posterior = np.exp(log_posterior - logsumexp(log_posterior))\n",
        "    return posterior.T                                                  \n",
        "\n",
        "GaussianNaiveBayes.predict = predict"
      ],
      "metadata": {
        "id": "kuaoq9XV3cqF"
      },
      "execution_count": 3,
      "outputs": []
    },
    {
      "cell_type": "markdown",
      "metadata": {
        "id": "PpIu8KoTN8RS"
      },
      "source": [
        "### MNB"
      ]
    },
    {
      "cell_type": "code",
      "execution_count": 43,
      "metadata": {
        "id": "SZnMkduON7gk"
      },
      "outputs": [],
      "source": [
        "\n",
        "class MultinomialNaiveB:\n",
        "    \n",
        "    def __init__(self):\n",
        "        return\n",
        "    \n",
        "    def fit(self, x, y):\n",
        "        N, D = x.shape \n",
        "        #in this case I get number of documents (or sentences), number of distinct words (after removing non useful words)\n",
        "        C = np.max(y) + 1\n",
        "        Nc = np.zeros(C) # number of instances in class c\n",
        "        # one parameter for each feature conditioned on each class\n",
        "        theta = np.zeros((C,D))\n",
        "         \n",
        "        # for each class get the MLE for the mean and std\n",
        "        for c in range(C):\n",
        "            x_c = x[y == c]         #slice all the documents in class c\n",
        "            Nc[c] = x_c.shape[0]    #get number of documents in class c\n",
        "            for d in range(D):\n",
        "              theta[c,:] = np.sum(x_c[:,d])/np.sum(x_c)  # count of word d in all documents labelled c/ number of words in all documments in class c\n",
        "            \n",
        "            \n",
        "        self.theta = theta                                  # C x D   \n",
        "        self.pi = (Nc+1)/(N+C)                      # C x 1 #Laplace smoothing (using alpha_c=1 for all c) you can derive using Dirichlet's distribution\n",
        "        return self\n",
        "\n",
        "    def predict(self, xt):\n",
        "      Nt, D = xt.shape\n",
        "      # for numerical stability we work in the log domain\n",
        "      # we add a dimension because this is added to the log-likelihood matrix \n",
        "      # that assigns a likelihood for each class (C) to each test point, and so it is C x N\n",
        "      log_prior = np.log(self.pi)[:, None]\n",
        "      # sum(log(combinatorics) + sum(x_d* log(theta_(d,y)))\n",
        "\n",
        "      log_likelihood = np.sum(xt[None,:,:] * self.theta[:,None,:])  # sum( x_d* log(theta_(d,y) ) <<----------------------------\n",
        "      # but xt is N x D and theta is C x D\n",
        "      # now we sum over the feature dimension to get a C x N matrix (this has the log-likelihood for each class-test point combination)\n",
        "      log_likelihood = np.sum(log_likelihood, axis=2) # log_likelihood, axis=2\n",
        "      # posterior calculation\n",
        "      log_posterior = log_prior + log_likelihood # C x N + C X D\n",
        "      posterior = np.exp(log_posterior - logsumexp(log_posterior))\n",
        "      return posterior.T  "
      ]
    },
    {
      "cell_type": "markdown",
      "metadata": {
        "id": "1t0ri4WsOiOl"
      },
      "source": [
        "### Eval function for NB"
      ]
    },
    {
      "cell_type": "code",
      "execution_count": null,
      "metadata": {
        "id": "fyb_4uBYZOjG"
      },
      "outputs": [],
      "source": [
        "#evaluate accuracy NB\n",
        "def eva_acc_naive( model_type, x_train, y_train, x_test, y_test):\n",
        "  y_pred =np.zeros(y_test.shape)\n",
        "  if model_type == 'GNB':\n",
        "    model = GaussianNaiveB()\n",
        "    model.fit(x_train, y_train)\n",
        "    y_prob = model.predict(x_test)\n",
        "    y_pred = np.argmax(y_prob,1)\n",
        "  elif model_type == 'MNB':\n",
        "    model = MultinomialNaiveB()\n",
        "    model.fit(x_train, y_train)\n",
        "    y_prob = model.predict(x_test)\n",
        "    y_pred = np.argmax(y_prob,1)\n",
        " ## NEED TO ADD OTHER TYPES HERE\n",
        "\n",
        "  accuracy = np.sum(y_pred == y_test)/y_test.shape[0]\n",
        "  print(f'test accuracy for GNB: {accuracy}')\n",
        "  return accuracy, y_pred"
      ]
    },
    {
      "cell_type": "markdown",
      "metadata": {
        "id": "jWo4DB5C5M3A"
      },
      "source": [
        "#Testing Models"
      ]
    },
    {
      "cell_type": "code",
      "execution_count": null,
      "metadata": {
        "id": "kdoM5_WsTcU-"
      },
      "outputs": [],
      "source": [
        "def evaluate_acc(true_label, target_label):\n",
        "  return np.mean(true_label == target_label)*100\n"
      ]
    },
    {
      "cell_type": "markdown",
      "metadata": {
        "id": "qo0WLE2P5THD"
      },
      "source": [
        "## Logistic Regression"
      ]
    },
    {
      "cell_type": "markdown",
      "metadata": {
        "id": "IPxiy9Pl5mMV"
      },
      "source": [
        "### NewsData (multiclassification)"
      ]
    },
    {
      "cell_type": "code",
      "source": [
        "x_axis=[]\n",
        "acc=[]\n",
        "for i in [0.2,0.4,0.6,0.8,1]:\n",
        "  # Get the data \n",
        "  x_axis.append(i)\n",
        "  x_tr,y_tr,x_te,y_te = getnewsdata(i)\n",
        "  \n",
        "  # Fit the model \n",
        "  model_multi.fit(x_tr, y_tr)\n",
        "\n",
        "  # Predict Results \n",
        "  y_pred = model_multi.predict(x_te)\n",
        "\n",
        "  # Results \n",
        "  accuracy = evaluate_acc(y_pred, y_te)\n",
        "  acc.append(accuracy)\n",
        "  print(accuracy)\n",
        "\n",
        "plt.plot(x_axis,acc)\n",
        "plt.ylabel(\"Accuracy\")\n",
        "plt.xlabel(\"Percentage of dataset\")\n",
        "plt.show() "
      ],
      "metadata": {
        "colab": {
          "base_uri": "https://localhost:8080/",
          "height": 370
        },
        "id": "jC6NWUC5I9lC",
        "outputId": "51a85b00-2cde-4d90-b5d6-2638deef21b0"
      },
      "execution_count": null,
      "outputs": [
        {
          "output_type": "stream",
          "name": "stdout",
          "text": [
            "55.6558682952735\n",
            "61.25862984599044\n",
            "63.024429102496015\n",
            "64.84333510355815\n",
            "65.61338289962825\n"
          ]
        },
        {
          "output_type": "display_data",
          "data": {
            "image/png": "[encoded data removed]",
            "text/plain": [
              "<Figure size 432x288 with 1 Axes>"
            ]
          },
          "metadata": {
            "needs_background": "light"
          }
        }
      ]
    },
    {
      "cell_type": "markdown",
      "metadata": {
        "id": "WuyNB9nw5zpF"
      },
      "source": [
        "### SentimentData (binary classification) "
      ]
    },
    {
      "cell_type": "code",
      "source": [
        "x2_axis=[]\n",
        "acc2=[]\n",
        "for j in [0.2,0.4,0.6,0.8,1]:\n",
        "  # Get the data \n",
        "  x2_axis.append(j)\n",
        "  x2_tr,y2_tr,x2_te,y2_te = getsentdata(j)\n",
        "  \n",
        "  # Fit the model \n",
        "  model_binary.fit(x2_tr, y2_tr)\n",
        "\n",
        "  # Predict Results \n",
        "  y2_pred = model_binary.predict(x2_te)\n",
        "\n",
        "  # Results \n",
        "  accuracy2 = evaluate_acc(y2_pred, y2_te)\n",
        "  acc2.append(accuracy2)\n",
        "  print(accuracy2)\n",
        "\n",
        "plt.plot(x2_axis,acc2)\n",
        "plt.ylabel(\"Accuracy\")\n",
        "plt.xlabel(\"Percentage of dataset\")\n",
        "plt.show() "
      ],
      "metadata": {
        "colab": {
          "base_uri": "https://localhost:8080/",
          "height": 368
        },
        "id": "qHopUFkHLe2k",
        "outputId": "2d3447ce-6fc3-4629-88cc-c864fa48dd31"
      },
      "execution_count": null,
      "outputs": [
        {
          "output_type": "stream",
          "name": "stdout",
          "text": [
            "74.93036211699165\n",
            "76.32311977715878\n",
            "75.76601671309191\n",
            "75.4874651810585\n",
            "75.4874651810585\n"
          ]
        },
        {
          "output_type": "display_data",
          "data": {
            "image/png": "[encoded data removed]",
            "text/plain": [
              "<Figure size 432x288 with 1 Axes>"
            ]
          },
          "metadata": {
            "needs_background": "light"
          }
        }
      ]
    },
    {
      "cell_type": "markdown",
      "metadata": {
        "id": "UPpe3_L09R-q"
      },
      "source": [
        "##Naive Bayes"
      ]
    },
    {
      "cell_type": "markdown",
      "metadata": {
        "id": "cqJdB6zn9ZgM"
      },
      "source": [
        "###NewsData (multiclassification)"
      ]
    },
    {
      "cell_type": "code",
      "execution_count": null,
      "metadata": {
        "id": "oZM6EZbHXRDT"
      },
      "outputs": [],
      "source": [
        "# Fit the model \n",
        "# Predict Results \n",
        "accn=[]\n",
        "for i in [0.2,0.4,0.6,0.8]:\n",
        "  x_train_array, y_train_array, x_test_array, y_test_array = getnewsdata_np(i)\n",
        "  accuracy=eva_acc_naive('MNB',x_train_array, y_train_array,x_test_array, y_test_array) #x_train, y_train, x_test, y_test\n",
        "  accn.append(accuracy*100)"
      ]
    },
    {
      "cell_type": "markdown",
      "metadata": {
        "id": "FUXUYAt_9eNw"
      },
      "source": [
        "###SentimentData (binary classification)"
      ]
    },
    {
      "cell_type": "code",
      "execution_count": null,
      "metadata": {
        "id": "55k1pPJMXPwy"
      },
      "outputs": [],
      "source": [
        "accn2=[]\n",
        "for i in [0.2,0.4,0.6,0.8,1]:\n",
        "  x_train, y_train, x_test, y_test = getsentdata_np(i)\n",
        "  model = GaussianNaiveBayes()\n",
        "  model.fit(x_train, y_train)\n",
        "  y_prob = model.predict(x_test)\n",
        "  y_pred = np.argmax(y_prob, 1)\n",
        "  accuracy = np.sum(y_pred == y_test)/y_pred.shape[0]\n",
        "  print(f'test accuracy: {accuracy}')\n",
        "  accn2.append(accuracy*100)"
      ]
    },
    {
      "cell_type": "code",
      "source": [
        "#Plot of news data\n",
        "plt.plot(x_axis,acc)\n",
        "plt.plot(x_axis,accn)\n",
        "plt.legend(['regression', 'naive bayes'], loc='upper left')\n",
        "plt.ylabel(\"Accuracy\")\n",
        "plt.xlabel(\"Percentage of dataset\")\n",
        "plt.show() "
      ],
      "metadata": {
        "id": "DKDNUPu99htD"
      },
      "execution_count": null,
      "outputs": []
    },
    {
      "cell_type": "code",
      "source": [
        "#plot of sentiment datas\n",
        "plt.plot(x_axis,acc2)\n",
        "plt.plot(x_axis,accn2)\n",
        "plt.legend(['regression', 'naive bayes'], loc='upper left')\n",
        "plt.ylabel(\"Accuracy\")\n",
        "plt.xlabel(\"Percentage of dataset\")\n",
        "plt.show() "
      ],
      "metadata": {
        "id": "0Mr7YxBO9obO"
      },
      "execution_count": null,
      "outputs": []
    },
    {
      "cell_type": "markdown",
      "metadata": {
        "id": "uxHP0xJt6A7n"
      },
      "source": [
        "# K Fold Cross Validation"
      ]
    },
    {
      "cell_type": "code",
      "execution_count": null,
      "metadata": {
        "id": "6liwrzzF6ERy"
      },
      "outputs": [],
      "source": [
        "def concat(datasets, y=False):\n",
        "  \n",
        "  if y:\n",
        "    colCount = 1\n",
        "  else:\n",
        "    colCount = datasets[0].shape[1]\n",
        "\n",
        "  rowCount = 0\n",
        "  for data in datasets:\n",
        "    rowCount += len(data)\n",
        "  \n",
        "  arr = np.zeros((rowCount, colCount)) \n",
        "  \n",
        "  i = 0\n",
        "  for data in datasets:\n",
        "    for row in data:\n",
        "      arr[i] = row\n",
        "      i+=1\n",
        "  \n",
        "  return arr\n",
        "\n",
        "# Returns the indices of the k sets of validation + training data\n",
        "def cross_validation_split(x, y, k_folds):\n",
        "\n",
        "  # split the data into k folds\n",
        "  x_folds = np.array_split(x, k_folds)\n",
        "  y_folds = np.array_split(y, k_folds)\n",
        "\n",
        "  # get the train + validation set: [ fold1[train,val], fold2[train,val], ....] \n",
        "  x_train_val_sets = [] \n",
        "  y_train_val_sets = [] \n",
        "\n",
        "  # for every fold separate train and validation \n",
        "  for k in range(k_folds):\n",
        "  \n",
        "    # Get validation data \n",
        "    x_val = x_folds[k]\n",
        "    y_val = y_folds[k]\n",
        "\n",
        "    # Get the rest (K-1) as train data\n",
        "    # Removes the val data from folds, and concatenate the rest\n",
        "    x_train = concat(np.delete(x_folds,k,0)) \n",
        "    y_train = concat(np.delete(y_folds,k,0),y=True)\n",
        "\n",
        "    # Add to masterset \n",
        "    x_train_val_sets.append([x_train, x_val])\n",
        "    y_train_val_sets.append([y_train, y_val])\n",
        "\n",
        "    print(str(k)+\" fold done\")\n",
        "\n",
        "  return x_train_val_sets, y_train_val_sets\n",
        "\n",
        "def kfoldCV(x_folds, y_folds, model):\n",
        "\n",
        "  all_results = []\n",
        "\n",
        "  # For every fold run the model on the data \n",
        "  for i, fold in enumerate(x_folds):\n",
        "    \n",
        "    # Get the train data and validation data \n",
        "    x_train, x_val = fold[0], fold[1]\n",
        "    y_train, y_val = y_folds[i][0], y_folds[i][1]\n",
        "\n",
        "    #convert back to sparse matrix\n",
        "    x_trainf = sparse.csr_matrix(x_train)\n",
        "    x_valf = sparse.csr_matrix(x_val)\n",
        "    # fit the model \n",
        "    model.fit(x_trainf, y_train)\n",
        "\n",
        "    # predict the model \n",
        "    y_val_pred = model.predict(x_valf)\n",
        "\n",
        "    # calculate the result of this fold (Accuracy or validation error?)\n",
        "    result = evaluate_acc(y_val, y_val_pred)\n",
        "\n",
        "    # append accuracy of this fold to all_results\n",
        "    all_results.append(result)\n",
        "\n",
        "  # Return the avg accuracy \n",
        "  avg = sum(all_results)/len(all_results)\n",
        "\n",
        "  print(all_results)\n",
        "  return avg"
      ]
    },
    {
      "cell_type": "markdown",
      "metadata": {
        "id": "2UHVe9SOalbK"
      },
      "source": [
        "# Finding Best Parameters using K Fold on Logistic Regression\n",
        "\n",
        "### Parameters of interest:\n",
        "\n",
        "*   Verbosity:  verboseint, default=0\n",
        "*   Penalty: {‘l1’, ‘l2’, ‘elasticnet’, ‘none’}, default=’l2’\n",
        "\n"
      ]
    },
    {
      "cell_type": "code",
      "execution_count": null,
      "metadata": {
        "id": "KwM39MriCDnO"
      },
      "outputs": [],
      "source": [
        "# Run K Fold given the data\n",
        "def runKFold(x_folds, y_folds, multi=True):\n",
        "\n",
        "  all_acc = [] \n",
        "  penalties = [\"none\",\"l2\"]\n",
        "  solvers = [\"newton-cg\",\"sag\"]\n",
        "\n",
        "  for s in solvers:\n",
        "    for p in penalties:\n",
        "      param = s+\" and \"+p\n",
        "      print(param)\n",
        "      \n",
        "      if multi:\n",
        "        model = LogisticRegression(multi_class='multinomial', solver=s, penalty=p)\n",
        "      else:\n",
        "        model = LogisticRegression( multi_class='ovr', solver=s, penalty=p)\n",
        "\n",
        "      avg = kfoldCV(x_folds, y_folds, model)\n",
        "      all_acc.append((param,avg))\n",
        "  \n",
        "  print(all_acc)\n",
        "  "
      ]
    },
    {
      "cell_type": "markdown",
      "metadata": {
        "id": "EhK-WpyyCAPW"
      },
      "source": [
        "#### News Data"
      ]
    },
    {
      "cell_type": "code",
      "source": [
        "x_train, y_train, x_test, y_test = getnewsdata_np()\n",
        "x_train_val_sets, y_train_val_sets = cross_validation_split(x2_train, y2_train, 5)"
      ],
      "metadata": {
        "id": "Zhrb8oJ4YZ0w"
      },
      "execution_count": null,
      "outputs": []
    },
    {
      "cell_type": "code",
      "execution_count": null,
      "metadata": {
        "id": "uw2S3F9_rbJO"
      },
      "outputs": [],
      "source": [
        "runKFold(x_train_val_sets, y_train_val_sets,False)"
      ]
    },
    {
      "cell_type": "markdown",
      "metadata": {
        "id": "GQuSyJUmB9wK"
      },
      "source": [
        "#### SentimentData (Binary)"
      ]
    },
    {
      "cell_type": "code",
      "execution_count": null,
      "metadata": {
        "id": "jurKeiV1akn7",
        "colab": {
          "base_uri": "https://localhost:8080/"
        },
        "outputId": "6cb9864c-1dfb-47fa-d9a6-178632d6591f"
      },
      "outputs": [
        {
          "output_type": "stream",
          "name": "stdout",
          "text": [
            "0 fold done\n",
            "1 fold done\n",
            "2 fold done\n",
            "3 fold done\n",
            "4 fold done\n"
          ]
        }
      ],
      "source": [
        "x2_train, y2_train, x2_test, y2_test = getsentdata_np(0.2)\n",
        "x2_train_val_sets, y2_train_val_sets = cross_validation_split(x2_train, y2_train, 5)"
      ]
    },
    {
      "cell_type": "code",
      "source": [
        "runKFold(x2_train_val_sets, y2_train_val_sets, False)"
      ],
      "metadata": {
        "id": "Z7HmgMZXRczi"
      },
      "execution_count": null,
      "outputs": []
    }
  ],
  "metadata": {
    "colab": {
      "collapsed_sections": [
        "eVliP6aSmMA9",
        "SOHK-bLevHge",
        "Gxp9KhtEGYuu",
        "mKeSQ8_D3m4Y",
        "f-d0sZYjcD88",
        "PpIu8KoTN8RS",
        "IPxiy9Pl5mMV",
        "WuyNB9nw5zpF",
        "uxHP0xJt6A7n",
        "2UHVe9SOalbK",
        "EhK-WpyyCAPW"
      ],
      "machine_shape": "hm",
      "name": "Mini-Project2.ipynb",
      "provenance": []
    },
    "kernelspec": {
      "display_name": "Python 3",
      "name": "python3"
    },
    "language_info": {
      "name": "python"
    }
  },
  "nbformat": 4,
  "nbformat_minor": 0
}